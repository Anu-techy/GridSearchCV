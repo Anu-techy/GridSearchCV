{
 "cells": [
  {
   "cell_type": "markdown",
   "id": "13621968-955f-4a53-96f0-7f5a8ae6bb26",
   "metadata": {},
   "source": [
    "### Problem Statement\n",
    "\n",
    "You are a data scientist working on a classification problem to predict whether a hotel reservation will be canceled or not. You have been provided with a dataset named **`\"hotel_reservations.csv\"`**, which includes various attributes related to hotel bookings. The dataset comprises the following columns:\n",
    "\n",
    "- `booking_id:` unique identifier of each booking\n",
    "- `no_of_adults:` Number of adults\n",
    "- `no_of_children:` Number of Children\n",
    "- `no_of_weekend_nights:` Number of weekend nights (Saturday or Sunday) the guest stayed or booked to stay at the hotel\n",
    "- `no_of_week_nights:` Number of week nights (Monday to Friday) the guest stayed or booked to stay at the hotel\n",
    "- `type_of_meal_plan:` Type of meal plan booked by the customer\n",
    "- `required_car_parking_space:` Does the customer require a car parking space? (0 - No, 1- Yes)\n",
    "- `room_type_reserved:` Type of room reserved by the customer. The values are ciphered (encoded) by INN Hotels\n",
    "- `lead_time:` Number of days between the date of booking and the arrival date\n",
    "- `arrival_year:` Year of arrival date\n",
    "- `arrival_month:` Month of arrival date\n",
    "- `arrival_date:` Date of the month\n",
    "- `market_segment_type:` Market segment designation\n",
    "- `repeated_guest:` Is the customer a repeated guest? (0 - No, 1- Yes)\n",
    "- `no_of_previous_cancellations:` Number of previous bookings that were canceled by the customer prior to the current booking\n",
    "- `no_of_previous_bookings_not_canceled:` Number of previous bookings not canceled by the customer prior to the current booking\n",
    "- `avg_price_per_room:` Average price per day of the reservation; prices of the rooms are dynamic (in euros)\n",
    "- `no_of_special_requests:` Total number of special requests made by the customer (e.g. high floor, view from the room, etc)\n",
    "- `booking_status:` Flag indicating if the booking was canceled or not (Not_Canceled = 0, Canceled = 1)\n",
    "\n",
    "\n",
    "You will perform data preprocessing, exploratory data analysis, and model training using different algorithms, including logistic regression, decision tree, random forest, and Naive Bayes. Additionally, you will implement k-fold cross-validation, stratified k-fold cross-validation, grid search, and randomized search techniques.\n",
    "\n",
    "**Dataset Credits:** Ahsan Raza (https://www.kaggle.com/datasets/ahsan81/hotel-reservations-classification-dataset)"
   ]
  },
  {
   "cell_type": "code",
   "execution_count": 1,
   "id": "b698c6a7-2eca-4597-8491-228b408f5b95",
   "metadata": {},
   "outputs": [],
   "source": [
    "import pandas as pd\n",
    "import matplotlib.pyplot as plt\n",
    "import numpy as np"
   ]
  },
  {
   "cell_type": "markdown",
   "id": "4f8ae767-7820-4ee1-97ee-b557a8b3cf99",
   "metadata": {},
   "source": [
    "# Data Preprocessing and EDA"
   ]
  },
  {
   "cell_type": "code",
   "execution_count": 3,
   "id": "7a6e3a54-d6cf-4f1c-afb4-263795c556a5",
   "metadata": {},
   "outputs": [
    {
     "data": {
      "text/plain": [
       "(36275, 19)"
      ]
     },
     "execution_count": 3,
     "metadata": {},
     "output_type": "execute_result"
    }
   ],
   "source": [
    "df = pd. read_csv(\"hotel_reservations.csv\")\n",
    "df.shape"
   ]
  },
  {
   "cell_type": "code",
   "execution_count": 5,
   "id": "50924970-7870-490d-b7a3-4008050fd118",
   "metadata": {},
   "outputs": [
    {
     "data": {
      "text/html": [
       "<div>\n",
       "<style scoped>\n",
       "    .dataframe tbody tr th:only-of-type {\n",
       "        vertical-align: middle;\n",
       "    }\n",
       "\n",
       "    .dataframe tbody tr th {\n",
       "        vertical-align: top;\n",
       "    }\n",
       "\n",
       "    .dataframe thead th {\n",
       "        text-align: right;\n",
       "    }\n",
       "</style>\n",
       "<table border=\"1\" class=\"dataframe\">\n",
       "  <thead>\n",
       "    <tr style=\"text-align: right;\">\n",
       "      <th></th>\n",
       "      <th>booking_id</th>\n",
       "      <th>no_of_adults</th>\n",
       "      <th>no_of_children</th>\n",
       "      <th>no_of_weekend_nights</th>\n",
       "      <th>no_of_week_nights</th>\n",
       "      <th>type_of_meal_plan</th>\n",
       "      <th>required_car_parking_space</th>\n",
       "      <th>room_type_reserved</th>\n",
       "      <th>lead_time</th>\n",
       "      <th>arrival_year</th>\n",
       "      <th>arrival_month</th>\n",
       "      <th>arrival_date</th>\n",
       "      <th>market_segment_type</th>\n",
       "      <th>repeated_guest</th>\n",
       "      <th>no_of_previous_cancellations</th>\n",
       "      <th>no_of_previous_bookings_not_canceled</th>\n",
       "      <th>avg_price_per_room</th>\n",
       "      <th>no_of_special_requests</th>\n",
       "      <th>booking_status</th>\n",
       "    </tr>\n",
       "  </thead>\n",
       "  <tbody>\n",
       "    <tr>\n",
       "      <th>0</th>\n",
       "      <td>INN00001</td>\n",
       "      <td>2</td>\n",
       "      <td>0</td>\n",
       "      <td>1</td>\n",
       "      <td>2</td>\n",
       "      <td>Meal Plan 1</td>\n",
       "      <td>0</td>\n",
       "      <td>Room_Type 1</td>\n",
       "      <td>224</td>\n",
       "      <td>2017</td>\n",
       "      <td>10</td>\n",
       "      <td>2</td>\n",
       "      <td>Offline</td>\n",
       "      <td>0</td>\n",
       "      <td>0</td>\n",
       "      <td>0</td>\n",
       "      <td>65.00</td>\n",
       "      <td>0</td>\n",
       "      <td>Not_Canceled</td>\n",
       "    </tr>\n",
       "    <tr>\n",
       "      <th>1</th>\n",
       "      <td>INN00002</td>\n",
       "      <td>2</td>\n",
       "      <td>0</td>\n",
       "      <td>2</td>\n",
       "      <td>3</td>\n",
       "      <td>Not Selected</td>\n",
       "      <td>0</td>\n",
       "      <td>Room_Type 1</td>\n",
       "      <td>5</td>\n",
       "      <td>2018</td>\n",
       "      <td>11</td>\n",
       "      <td>6</td>\n",
       "      <td>Online</td>\n",
       "      <td>0</td>\n",
       "      <td>0</td>\n",
       "      <td>0</td>\n",
       "      <td>106.68</td>\n",
       "      <td>1</td>\n",
       "      <td>Not_Canceled</td>\n",
       "    </tr>\n",
       "    <tr>\n",
       "      <th>2</th>\n",
       "      <td>INN00003</td>\n",
       "      <td>1</td>\n",
       "      <td>0</td>\n",
       "      <td>2</td>\n",
       "      <td>1</td>\n",
       "      <td>Meal Plan 1</td>\n",
       "      <td>0</td>\n",
       "      <td>Room_Type 1</td>\n",
       "      <td>1</td>\n",
       "      <td>2018</td>\n",
       "      <td>2</td>\n",
       "      <td>28</td>\n",
       "      <td>Online</td>\n",
       "      <td>0</td>\n",
       "      <td>0</td>\n",
       "      <td>0</td>\n",
       "      <td>60.00</td>\n",
       "      <td>0</td>\n",
       "      <td>Canceled</td>\n",
       "    </tr>\n",
       "    <tr>\n",
       "      <th>3</th>\n",
       "      <td>INN00004</td>\n",
       "      <td>2</td>\n",
       "      <td>0</td>\n",
       "      <td>0</td>\n",
       "      <td>2</td>\n",
       "      <td>Meal Plan 1</td>\n",
       "      <td>0</td>\n",
       "      <td>Room_Type 1</td>\n",
       "      <td>211</td>\n",
       "      <td>2018</td>\n",
       "      <td>5</td>\n",
       "      <td>20</td>\n",
       "      <td>Online</td>\n",
       "      <td>0</td>\n",
       "      <td>0</td>\n",
       "      <td>0</td>\n",
       "      <td>100.00</td>\n",
       "      <td>0</td>\n",
       "      <td>Canceled</td>\n",
       "    </tr>\n",
       "    <tr>\n",
       "      <th>4</th>\n",
       "      <td>INN00005</td>\n",
       "      <td>2</td>\n",
       "      <td>0</td>\n",
       "      <td>1</td>\n",
       "      <td>1</td>\n",
       "      <td>Not Selected</td>\n",
       "      <td>0</td>\n",
       "      <td>Room_Type 1</td>\n",
       "      <td>48</td>\n",
       "      <td>2018</td>\n",
       "      <td>4</td>\n",
       "      <td>11</td>\n",
       "      <td>Online</td>\n",
       "      <td>0</td>\n",
       "      <td>0</td>\n",
       "      <td>0</td>\n",
       "      <td>94.50</td>\n",
       "      <td>0</td>\n",
       "      <td>Canceled</td>\n",
       "    </tr>\n",
       "  </tbody>\n",
       "</table>\n",
       "</div>"
      ],
      "text/plain": [
       "  booking_id  no_of_adults  no_of_children  no_of_weekend_nights  \\\n",
       "0   INN00001             2               0                     1   \n",
       "1   INN00002             2               0                     2   \n",
       "2   INN00003             1               0                     2   \n",
       "3   INN00004             2               0                     0   \n",
       "4   INN00005             2               0                     1   \n",
       "\n",
       "   no_of_week_nights type_of_meal_plan  required_car_parking_space  \\\n",
       "0                  2       Meal Plan 1                           0   \n",
       "1                  3      Not Selected                           0   \n",
       "2                  1       Meal Plan 1                           0   \n",
       "3                  2       Meal Plan 1                           0   \n",
       "4                  1      Not Selected                           0   \n",
       "\n",
       "  room_type_reserved  lead_time  arrival_year  arrival_month  arrival_date  \\\n",
       "0        Room_Type 1        224          2017             10             2   \n",
       "1        Room_Type 1          5          2018             11             6   \n",
       "2        Room_Type 1          1          2018              2            28   \n",
       "3        Room_Type 1        211          2018              5            20   \n",
       "4        Room_Type 1         48          2018              4            11   \n",
       "\n",
       "  market_segment_type  repeated_guest  no_of_previous_cancellations  \\\n",
       "0             Offline               0                             0   \n",
       "1              Online               0                             0   \n",
       "2              Online               0                             0   \n",
       "3              Online               0                             0   \n",
       "4              Online               0                             0   \n",
       "\n",
       "   no_of_previous_bookings_not_canceled  avg_price_per_room  \\\n",
       "0                                     0               65.00   \n",
       "1                                     0              106.68   \n",
       "2                                     0               60.00   \n",
       "3                                     0              100.00   \n",
       "4                                     0               94.50   \n",
       "\n",
       "   no_of_special_requests booking_status  \n",
       "0                       0   Not_Canceled  \n",
       "1                       1   Not_Canceled  \n",
       "2                       0       Canceled  \n",
       "3                       0       Canceled  \n",
       "4                       0       Canceled  "
      ]
     },
     "execution_count": 5,
     "metadata": {},
     "output_type": "execute_result"
    }
   ],
   "source": [
    "df.head()"
   ]
  },
  {
   "cell_type": "code",
   "execution_count": 9,
   "id": "85656408-8ede-4882-8857-aa4af0600efd",
   "metadata": {},
   "outputs": [
    {
     "data": {
      "text/plain": [
       "(36275, 15)"
      ]
     },
     "execution_count": 9,
     "metadata": {},
     "output_type": "execute_result"
    }
   ],
   "source": [
    "# Remove the columns booking_id, arrival_year, arrival_month, and arrival_date\n",
    "df = df.drop([\"booking_id\", \"arrival_year\", \"arrival_month\", \"arrival_date\"],axis=1)\n",
    "df.shape"
   ]
  },
  {
   "cell_type": "markdown",
   "id": "61d0dc04-f17f-47ef-a1fe-b7731dd96d1d",
   "metadata": {},
   "source": [
    "# Visualization"
   ]
  },
  {
   "cell_type": "code",
   "execution_count": 27,
   "id": "e0bfc7fd-82ac-4e2c-b106-18305d16b4db",
   "metadata": {},
   "outputs": [
    {
     "data": {
      "text/plain": [
       "(array([0, 1]), [Text(0, 0, 'Not_Canceled'), Text(1, 0, 'Canceled')])"
      ]
     },
     "execution_count": 27,
     "metadata": {},
     "output_type": "execute_result"
    },
    {
     "data": {
      "image/png": "[encoded data removed]",
      "text/plain": [
       "<Figure size 640x480 with 1 Axes>"
      ]
     },
     "metadata": {},
     "output_type": "display_data"
    }
   ],
   "source": [
    "# Visualize the booking_status\n",
    "df[\"booking_status\"].value_counts().plot(kind=\"bar\")\n",
    "plt.xticks(rotation=0)"
   ]
  },
  {
   "cell_type": "code",
   "execution_count": 31,
   "id": "786d4970-c07b-4b0a-907b-ab6b4bf4b667",
   "metadata": {},
   "outputs": [
    {
     "data": {
      "text/plain": [
       "<Axes: xlabel='booking_status', ylabel='lead_time'>"
      ]
     },
     "execution_count": 31,
     "metadata": {},
     "output_type": "execute_result"
    },
    {
     "data": {
      "image/png": "[encoded data removed]",
      "text/plain": [
       "<Figure size 640x480 with 1 Axes>"
      ]
     },
     "metadata": {},
     "output_type": "display_data"
    }
   ],
   "source": [
    "# Visualize the lead time for canceled and not canceled bookings using a box plot\n",
    "import seaborn as sns\n",
    "sns.boxplot(x=\"booking_status\", y=\"lead_time\", data=df)"
   ]
  },
  {
   "cell_type": "code",
   "execution_count": 33,
   "id": "ed3e2c1b-6349-472b-ad70-f4262090cbce",
   "metadata": {},
   "outputs": [
    {
     "data": {
      "text/plain": [
       "<Axes: xlabel='booking_status', ylabel='avg_price_per_room'>"
      ]
     },
     "execution_count": 33,
     "metadata": {},
     "output_type": "execute_result"
    },
    {
     "data": {
      "image/png": "[encoded data removed]",
      "text/plain": [
       "<Figure size 640x480 with 1 Axes>"
      ]
     },
     "metadata": {},
     "output_type": "display_data"
    }
   ],
   "source": [
    "# Visualize the average price per room for canceled and not canceled bookingssns.boxplot(x='booking_status', y='avg_price_per_room', data=df)\n",
    "\n",
    "sns.boxplot(x='booking_status', y='avg_price_per_room', data=df)"
   ]
  },
  {
   "cell_type": "markdown",
   "id": "10fff2d2-6de7-4c4f-9b26-4cea22aca630",
   "metadata": {},
   "source": [
    "# One hot Encoding"
   ]
  },
  {
   "cell_type": "code",
   "execution_count": 37,
   "id": "bb31d0bd-70ed-4abb-8208-992a46ed8cba",
   "metadata": {},
   "outputs": [
    {
     "data": {
      "text/html": [
       "<div>\n",
       "<style scoped>\n",
       "    .dataframe tbody tr th:only-of-type {\n",
       "        vertical-align: middle;\n",
       "    }\n",
       "\n",
       "    .dataframe tbody tr th {\n",
       "        vertical-align: top;\n",
       "    }\n",
       "\n",
       "    .dataframe thead th {\n",
       "        text-align: right;\n",
       "    }\n",
       "</style>\n",
       "<table border=\"1\" class=\"dataframe\">\n",
       "  <thead>\n",
       "    <tr style=\"text-align: right;\">\n",
       "      <th></th>\n",
       "      <th>no_of_adults</th>\n",
       "      <th>no_of_children</th>\n",
       "      <th>no_of_weekend_nights</th>\n",
       "      <th>no_of_week_nights</th>\n",
       "      <th>required_car_parking_space</th>\n",
       "      <th>lead_time</th>\n",
       "      <th>repeated_guest</th>\n",
       "      <th>no_of_previous_cancellations</th>\n",
       "      <th>no_of_previous_bookings_not_canceled</th>\n",
       "      <th>avg_price_per_room</th>\n",
       "      <th>...</th>\n",
       "      <th>room_type_reserved_Room_Type 2</th>\n",
       "      <th>room_type_reserved_Room_Type 3</th>\n",
       "      <th>room_type_reserved_Room_Type 4</th>\n",
       "      <th>room_type_reserved_Room_Type 5</th>\n",
       "      <th>room_type_reserved_Room_Type 6</th>\n",
       "      <th>room_type_reserved_Room_Type 7</th>\n",
       "      <th>market_segment_type_Complementary</th>\n",
       "      <th>market_segment_type_Corporate</th>\n",
       "      <th>market_segment_type_Offline</th>\n",
       "      <th>market_segment_type_Online</th>\n",
       "    </tr>\n",
       "  </thead>\n",
       "  <tbody>\n",
       "    <tr>\n",
       "      <th>0</th>\n",
       "      <td>2</td>\n",
       "      <td>0</td>\n",
       "      <td>1</td>\n",
       "      <td>2</td>\n",
       "      <td>0</td>\n",
       "      <td>224</td>\n",
       "      <td>0</td>\n",
       "      <td>0</td>\n",
       "      <td>0</td>\n",
       "      <td>65.00</td>\n",
       "      <td>...</td>\n",
       "      <td>False</td>\n",
       "      <td>False</td>\n",
       "      <td>False</td>\n",
       "      <td>False</td>\n",
       "      <td>False</td>\n",
       "      <td>False</td>\n",
       "      <td>False</td>\n",
       "      <td>False</td>\n",
       "      <td>True</td>\n",
       "      <td>False</td>\n",
       "    </tr>\n",
       "    <tr>\n",
       "      <th>1</th>\n",
       "      <td>2</td>\n",
       "      <td>0</td>\n",
       "      <td>2</td>\n",
       "      <td>3</td>\n",
       "      <td>0</td>\n",
       "      <td>5</td>\n",
       "      <td>0</td>\n",
       "      <td>0</td>\n",
       "      <td>0</td>\n",
       "      <td>106.68</td>\n",
       "      <td>...</td>\n",
       "      <td>False</td>\n",
       "      <td>False</td>\n",
       "      <td>False</td>\n",
       "      <td>False</td>\n",
       "      <td>False</td>\n",
       "      <td>False</td>\n",
       "      <td>False</td>\n",
       "      <td>False</td>\n",
       "      <td>False</td>\n",
       "      <td>True</td>\n",
       "    </tr>\n",
       "    <tr>\n",
       "      <th>2</th>\n",
       "      <td>1</td>\n",
       "      <td>0</td>\n",
       "      <td>2</td>\n",
       "      <td>1</td>\n",
       "      <td>0</td>\n",
       "      <td>1</td>\n",
       "      <td>0</td>\n",
       "      <td>0</td>\n",
       "      <td>0</td>\n",
       "      <td>60.00</td>\n",
       "      <td>...</td>\n",
       "      <td>False</td>\n",
       "      <td>False</td>\n",
       "      <td>False</td>\n",
       "      <td>False</td>\n",
       "      <td>False</td>\n",
       "      <td>False</td>\n",
       "      <td>False</td>\n",
       "      <td>False</td>\n",
       "      <td>False</td>\n",
       "      <td>True</td>\n",
       "    </tr>\n",
       "    <tr>\n",
       "      <th>3</th>\n",
       "      <td>2</td>\n",
       "      <td>0</td>\n",
       "      <td>0</td>\n",
       "      <td>2</td>\n",
       "      <td>0</td>\n",
       "      <td>211</td>\n",
       "      <td>0</td>\n",
       "      <td>0</td>\n",
       "      <td>0</td>\n",
       "      <td>100.00</td>\n",
       "      <td>...</td>\n",
       "      <td>False</td>\n",
       "      <td>False</td>\n",
       "      <td>False</td>\n",
       "      <td>False</td>\n",
       "      <td>False</td>\n",
       "      <td>False</td>\n",
       "      <td>False</td>\n",
       "      <td>False</td>\n",
       "      <td>False</td>\n",
       "      <td>True</td>\n",
       "    </tr>\n",
       "    <tr>\n",
       "      <th>4</th>\n",
       "      <td>2</td>\n",
       "      <td>0</td>\n",
       "      <td>1</td>\n",
       "      <td>1</td>\n",
       "      <td>0</td>\n",
       "      <td>48</td>\n",
       "      <td>0</td>\n",
       "      <td>0</td>\n",
       "      <td>0</td>\n",
       "      <td>94.50</td>\n",
       "      <td>...</td>\n",
       "      <td>False</td>\n",
       "      <td>False</td>\n",
       "      <td>False</td>\n",
       "      <td>False</td>\n",
       "      <td>False</td>\n",
       "      <td>False</td>\n",
       "      <td>False</td>\n",
       "      <td>False</td>\n",
       "      <td>False</td>\n",
       "      <td>True</td>\n",
       "    </tr>\n",
       "  </tbody>\n",
       "</table>\n",
       "<p>5 rows × 25 columns</p>\n",
       "</div>"
      ],
      "text/plain": [
       "   no_of_adults  no_of_children  no_of_weekend_nights  no_of_week_nights  \\\n",
       "0             2               0                     1                  2   \n",
       "1             2               0                     2                  3   \n",
       "2             1               0                     2                  1   \n",
       "3             2               0                     0                  2   \n",
       "4             2               0                     1                  1   \n",
       "\n",
       "   required_car_parking_space  lead_time  repeated_guest  \\\n",
       "0                           0        224               0   \n",
       "1                           0          5               0   \n",
       "2                           0          1               0   \n",
       "3                           0        211               0   \n",
       "4                           0         48               0   \n",
       "\n",
       "   no_of_previous_cancellations  no_of_previous_bookings_not_canceled  \\\n",
       "0                             0                                     0   \n",
       "1                             0                                     0   \n",
       "2                             0                                     0   \n",
       "3                             0                                     0   \n",
       "4                             0                                     0   \n",
       "\n",
       "   avg_price_per_room  ...  room_type_reserved_Room_Type 2  \\\n",
       "0               65.00  ...                           False   \n",
       "1              106.68  ...                           False   \n",
       "2               60.00  ...                           False   \n",
       "3              100.00  ...                           False   \n",
       "4               94.50  ...                           False   \n",
       "\n",
       "  room_type_reserved_Room_Type 3  room_type_reserved_Room_Type 4  \\\n",
       "0                          False                           False   \n",
       "1                          False                           False   \n",
       "2                          False                           False   \n",
       "3                          False                           False   \n",
       "4                          False                           False   \n",
       "\n",
       "   room_type_reserved_Room_Type 5  room_type_reserved_Room_Type 6  \\\n",
       "0                           False                           False   \n",
       "1                           False                           False   \n",
       "2                           False                           False   \n",
       "3                           False                           False   \n",
       "4                           False                           False   \n",
       "\n",
       "   room_type_reserved_Room_Type 7  market_segment_type_Complementary  \\\n",
       "0                           False                              False   \n",
       "1                           False                              False   \n",
       "2                           False                              False   \n",
       "3                           False                              False   \n",
       "4                           False                              False   \n",
       "\n",
       "   market_segment_type_Corporate  market_segment_type_Offline  \\\n",
       "0                          False                         True   \n",
       "1                          False                        False   \n",
       "2                          False                        False   \n",
       "3                          False                        False   \n",
       "4                          False                        False   \n",
       "\n",
       "   market_segment_type_Online  \n",
       "0                       False  \n",
       "1                        True  \n",
       "2                        True  \n",
       "3                        True  \n",
       "4                        True  \n",
       "\n",
       "[5 rows x 25 columns]"
      ]
     },
     "execution_count": 37,
     "metadata": {},
     "output_type": "execute_result"
    }
   ],
   "source": [
    "df = pd.get_dummies(df, columns= ['type_of_meal_plan', 'room_type_reserved', 'market_segment_type'], drop_first=True)\n",
    "df.head()"
   ]
  },
  {
   "cell_type": "markdown",
   "id": "bf0a85db-85ba-42f7-84c1-a7630c1fcc98",
   "metadata": {},
   "source": [
    "# Scaling"
   ]
  },
  {
   "cell_type": "code",
   "execution_count": 42,
   "id": "f634bbbf-b143-4104-b9c1-e971de4b41bb",
   "metadata": {},
   "outputs": [],
   "source": [
    "from sklearn.preprocessing import StandardScaler\n",
    "\n",
    "# Select numerical features to standardize\n",
    "num_features = ['lead_time', 'avg_price_per_room']\n",
    "\n",
    "# Initialize the scaler\n",
    "scaler = StandardScaler()\n",
    "\n",
    "# Fit and transform the selected features\n",
    "df[num_features] = scaler.fit_transform(df[num_features])"
   ]
  },
  {
   "cell_type": "code",
   "execution_count": 49,
   "id": "2ba88a8c-f4ce-40d2-aa44-aebef10e5d67",
   "metadata": {},
   "outputs": [],
   "source": [
    "# Define features(X) and target (y: booking_status)\n",
    "X = df.drop(\"booking_status\",axis=1)\n",
    "y  = df[\"booking_status\"]"
   ]
  },
  {
   "cell_type": "markdown",
   "id": "a59f3db0-78af-4351-9c59-7e38041e00ad",
   "metadata": {},
   "source": [
    "### Implementing K-Fold Cross Validation"
   ]
  },
  {
   "cell_type": "code",
   "execution_count": 51,
   "id": "f3b070a5-a770-40a7-a797-caea858adc14",
   "metadata": {},
   "outputs": [
    {
     "data": {
      "text/plain": [
       "0.4086008945293444"
      ]
     },
     "execution_count": 51,
     "metadata": {},
     "output_type": "execute_result"
    }
   ],
   "source": [
    "from sklearn.model_selection import KFold, cross_val_score\n",
    "import numpy as np\n",
    "from sklearn.naive_bayes import GaussianNB\n",
    "\n",
    "kf = KFold(n_splits=7, shuffle=True, random_state=42)\n",
    "\n",
    "scores_NB = cross_val_score(GaussianNB(), X, y, cv=kf)\n",
    "\n",
    "np.average(scores_NB)"
   ]
  },
  {
   "cell_type": "code",
   "execution_count": 53,
   "id": "82213b19-5283-409e-95cb-e911202fef68",
   "metadata": {},
   "outputs": [
    {
     "name": "stderr",
     "output_type": "stream",
     "text": [
      "C:\\Users\\DELL\\anaconda3\\Lib\\site-packages\\sklearn\\linear_model\\_logistic.py:469: ConvergenceWarning: lbfgs failed to converge (status=1):\n",
      "STOP: TOTAL NO. of ITERATIONS REACHED LIMIT.\n",
      "\n",
      "Increase the number of iterations (max_iter) or scale the data as shown in:\n",
      "    https://scikit-learn.org/stable/modules/preprocessing.html\n",
      "Please also refer to the documentation for alternative solver options:\n",
      "    https://scikit-learn.org/stable/modules/linear_model.html#logistic-regression\n",
      "  n_iter_i = _check_optimize_result(\n"
     ]
    },
    {
     "data": {
      "text/plain": [
       "0.800413457625681"
      ]
     },
     "execution_count": 53,
     "metadata": {},
     "output_type": "execute_result"
    }
   ],
   "source": [
    "from sklearn.linear_model import LogisticRegression\n",
    "\n",
    "kf = KFold(n_splits=7, shuffle=True, random_state=42)\n",
    "\n",
    "scores_log = cross_val_score(LogisticRegression(), X, y, cv=kf)\n",
    "\n",
    "np.average(scores_log)"
   ]
  },
  {
   "cell_type": "code",
   "execution_count": 55,
   "id": "3d856c53-b5b2-4110-8273-c689d6272075",
   "metadata": {},
   "outputs": [
    {
     "data": {
      "text/plain": [
       "0.8580015114451799"
      ]
     },
     "execution_count": 55,
     "metadata": {},
     "output_type": "execute_result"
    }
   ],
   "source": [
    "from sklearn.tree import DecisionTreeClassifier\n",
    "\n",
    "kf = KFold(n_splits=7, shuffle=True, random_state=42)\n",
    "\n",
    "scores_dt = cross_val_score(DecisionTreeClassifier(), X, y, cv=kf)\n",
    "\n",
    "np.average(scores_dt)"
   ]
  },
  {
   "cell_type": "markdown",
   "id": "91254ab6-6cf6-4a05-97f7-3cf9777b71ed",
   "metadata": {},
   "source": [
    "### Implementing Stratified K-Fold Cross Validation"
   ]
  },
  {
   "cell_type": "code",
   "execution_count": 58,
   "id": "2aa1f6e8-3b66-42b8-8cef-475df9ae695d",
   "metadata": {},
   "outputs": [
    {
     "data": {
      "text/plain": [
       "0.4084906960716747"
      ]
     },
     "execution_count": 58,
     "metadata": {},
     "output_type": "execute_result"
    }
   ],
   "source": [
    "# Initialize a StratifiedKFold cross-validator with 7 splits\n",
    "from sklearn.model_selection import StratifiedKFold\n",
    "\n",
    "skf = StratifiedKFold(n_splits=5, shuffle=True, random_state=42)\n",
    "scores_NB = cross_val_score(GaussianNB(), X, y, cv=skf)\n",
    "\n",
    "np.average(scores_NB)"
   ]
  },
  {
   "cell_type": "code",
   "execution_count": 60,
   "id": "39e61815-936d-4201-b38a-61fe3a203a28",
   "metadata": {},
   "outputs": [
    {
     "name": "stderr",
     "output_type": "stream",
     "text": [
      "C:\\Users\\DELL\\anaconda3\\Lib\\site-packages\\sklearn\\linear_model\\_logistic.py:469: ConvergenceWarning: lbfgs failed to converge (status=1):\n",
      "STOP: TOTAL NO. of ITERATIONS REACHED LIMIT.\n",
      "\n",
      "Increase the number of iterations (max_iter) or scale the data as shown in:\n",
      "    https://scikit-learn.org/stable/modules/preprocessing.html\n",
      "Please also refer to the documentation for alternative solver options:\n",
      "    https://scikit-learn.org/stable/modules/linear_model.html#logistic-regression\n",
      "  n_iter_i = _check_optimize_result(\n"
     ]
    },
    {
     "data": {
      "text/plain": [
       "0.8011026878015162"
      ]
     },
     "execution_count": 60,
     "metadata": {},
     "output_type": "execute_result"
    }
   ],
   "source": [
    "scores_log = cross_val_score(LogisticRegression(), X, y, cv=skf)\n",
    "\n",
    "np.average(scores_log)"
   ]
  },
  {
   "cell_type": "code",
   "execution_count": 62,
   "id": "82e02b5c-d234-4e4b-abf4-f343699b6bb9",
   "metadata": {},
   "outputs": [
    {
     "data": {
      "text/plain": [
       "0.8563197794624398"
      ]
     },
     "execution_count": 62,
     "metadata": {},
     "output_type": "execute_result"
    }
   ],
   "source": [
    "scores_dt = cross_val_score(DecisionTreeClassifier(), X, y, cv=skf)\n",
    "\n",
    "np.average(scores_dt)"
   ]
  },
  {
   "cell_type": "markdown",
   "id": "ba3f2609-25d0-45a4-b6ae-c51dc073537c",
   "metadata": {},
   "source": [
    "### Implementing Grid Search CV"
   ]
  },
  {
   "cell_type": "code",
   "execution_count": null,
   "id": "7717600d-1a8c-435d-9949-c5da69f2dca6",
   "metadata": {},
   "outputs": [],
   "source": [
    "from sklearn.model_selection import GridSearchCV\n",
    "\n",
    "clf = GridSearchCV( \n",
    "    DecisionTreeClassifier(),\n",
    "    {\n",
    "        'criterion':[\"gini\",\"entropy\"],\n",
    "        \"max_depth\":[5,10,15]\n",
    "    },\n",
    "    cv=5,\n",
    "    return_train_score=False\n",
    ")\n",
    "clf.fit(X, y)"
   ]
  },
  {
   "cell_type": "code",
   "execution_count": 68,
   "id": "dc539d77-36d6-48ca-865f-ad72b32ba91c",
   "metadata": {},
   "outputs": [
    {
     "data": {
      "text/html": [
       "<div>\n",
       "<style scoped>\n",
       "    .dataframe tbody tr th:only-of-type {\n",
       "        vertical-align: middle;\n",
       "    }\n",
       "\n",
       "    .dataframe tbody tr th {\n",
       "        vertical-align: top;\n",
       "    }\n",
       "\n",
       "    .dataframe thead th {\n",
       "        text-align: right;\n",
       "    }\n",
       "</style>\n",
       "<table border=\"1\" class=\"dataframe\">\n",
       "  <thead>\n",
       "    <tr style=\"text-align: right;\">\n",
       "      <th></th>\n",
       "      <th>model</th>\n",
       "      <th>best_score</th>\n",
       "      <th>best_params</th>\n",
       "    </tr>\n",
       "  </thead>\n",
       "  <tbody>\n",
       "    <tr>\n",
       "      <th>0</th>\n",
       "      <td>naive_bayes</td>\n",
       "      <td>0.409483</td>\n",
       "      <td>{'var_smoothing': 1e-07}</td>\n",
       "    </tr>\n",
       "    <tr>\n",
       "      <th>1</th>\n",
       "      <td>random_forest</td>\n",
       "      <td>0.877877</td>\n",
       "      <td>{'max_depth': 15, 'n_estimators': 100}</td>\n",
       "    </tr>\n",
       "  </tbody>\n",
       "</table>\n",
       "</div>"
      ],
      "text/plain": [
       "           model  best_score                             best_params\n",
       "0    naive_bayes    0.409483                {'var_smoothing': 1e-07}\n",
       "1  random_forest    0.877877  {'max_depth': 15, 'n_estimators': 100}"
      ]
     },
     "execution_count": 68,
     "metadata": {},
     "output_type": "execute_result"
    }
   ],
   "source": [
    "from sklearn.model_selection import GridSearchCV\n",
    "from sklearn.ensemble import RandomForestClassifier\n",
    "\n",
    "model_params = {\n",
    "    'naive_bayes': {\n",
    "        'model': GaussianNB(),\n",
    "        'params' : {\n",
    "            'var_smoothing': [1e-9, 1e-8, 1e-7]\n",
    "        }  \n",
    "    },\n",
    "    'random_forest': {\n",
    "        'model': RandomForestClassifier(),\n",
    "        'params' : {\n",
    "            'n_estimators': [10, 50, 100],\n",
    "            'max_depth': [5, 10, 15]          \n",
    "        }\n",
    "    }\n",
    "}\n",
    "\n",
    "\n",
    "# Fit GridSearchCV with Naive Bayes and Random Forest, and find the best parameters.\n",
    "scores = []\n",
    "for key, val in model_params.items():\n",
    "    clf = GridSearchCV(\n",
    "        val['model'],\n",
    "        val['params'],\n",
    "        cv=7,\n",
    "        return_train_score=False\n",
    "    )\n",
    "    clf.fit(X, y)\n",
    "    scores.append({\n",
    "        'model': key,\n",
    "        'best_score': clf.best_score_,\n",
    "        'best_params': clf.best_params_\n",
    "    })\n",
    "\n",
    "\n",
    "# Print the best parameters for each model.\n",
    "df_scores = pd.DataFrame(scores, columns=[\"model\", \"best_score\", \"best_params\"])\n",
    "df_scores"
   ]
  },
  {
   "cell_type": "markdown",
   "id": "5ba1f5ac-0a19-49c1-a245-b6fe627643b1",
   "metadata": {},
   "source": [
    "### Implementing Randomized Search CV"
   ]
  },
  {
   "cell_type": "code",
   "execution_count": 72,
   "id": "1502612c-54e8-4916-86cc-2da236d7a920",
   "metadata": {},
   "outputs": [
    {
     "name": "stdout",
     "output_type": "stream",
     "text": [
      "Best Parameters for Random Forest (RandomizedSearchCV):  {'n_estimators': 50, 'max_depth': 20}\n"
     ]
    },
    {
     "data": {
      "text/html": [
       "<div>\n",
       "<style scoped>\n",
       "    .dataframe tbody tr th:only-of-type {\n",
       "        vertical-align: middle;\n",
       "    }\n",
       "\n",
       "    .dataframe tbody tr th {\n",
       "        vertical-align: top;\n",
       "    }\n",
       "\n",
       "    .dataframe thead th {\n",
       "        text-align: right;\n",
       "    }\n",
       "</style>\n",
       "<table border=\"1\" class=\"dataframe\">\n",
       "  <thead>\n",
       "    <tr style=\"text-align: right;\">\n",
       "      <th></th>\n",
       "      <th>mean_fit_time</th>\n",
       "      <th>std_fit_time</th>\n",
       "      <th>mean_score_time</th>\n",
       "      <th>std_score_time</th>\n",
       "      <th>param_n_estimators</th>\n",
       "      <th>param_max_depth</th>\n",
       "      <th>params</th>\n",
       "      <th>split0_test_score</th>\n",
       "      <th>split1_test_score</th>\n",
       "      <th>split2_test_score</th>\n",
       "      <th>split3_test_score</th>\n",
       "      <th>split4_test_score</th>\n",
       "      <th>split5_test_score</th>\n",
       "      <th>split6_test_score</th>\n",
       "      <th>mean_test_score</th>\n",
       "      <th>std_test_score</th>\n",
       "      <th>rank_test_score</th>\n",
       "    </tr>\n",
       "  </thead>\n",
       "  <tbody>\n",
       "    <tr>\n",
       "      <th>0</th>\n",
       "      <td>2.449165</td>\n",
       "      <td>0.249127</td>\n",
       "      <td>0.129218</td>\n",
       "      <td>0.071610</td>\n",
       "      <td>50</td>\n",
       "      <td>20</td>\n",
       "      <td>{'n_estimators': 50, 'max_depth': 20}</td>\n",
       "      <td>0.889253</td>\n",
       "      <td>0.889425</td>\n",
       "      <td>0.885758</td>\n",
       "      <td>0.887881</td>\n",
       "      <td>0.890004</td>\n",
       "      <td>0.882671</td>\n",
       "      <td>0.884794</td>\n",
       "      <td>0.887112</td>\n",
       "      <td>0.002558</td>\n",
       "      <td>1</td>\n",
       "    </tr>\n",
       "    <tr>\n",
       "      <th>1</th>\n",
       "      <td>2.438704</td>\n",
       "      <td>0.724914</td>\n",
       "      <td>0.096375</td>\n",
       "      <td>0.020600</td>\n",
       "      <td>50</td>\n",
       "      <td>15</td>\n",
       "      <td>{'n_estimators': 50, 'max_depth': 15}</td>\n",
       "      <td>0.878449</td>\n",
       "      <td>0.882092</td>\n",
       "      <td>0.879004</td>\n",
       "      <td>0.876496</td>\n",
       "      <td>0.878232</td>\n",
       "      <td>0.869741</td>\n",
       "      <td>0.870899</td>\n",
       "      <td>0.876416</td>\n",
       "      <td>0.004163</td>\n",
       "      <td>2</td>\n",
       "    </tr>\n",
       "    <tr>\n",
       "      <th>2</th>\n",
       "      <td>1.921558</td>\n",
       "      <td>0.128210</td>\n",
       "      <td>0.073244</td>\n",
       "      <td>0.006103</td>\n",
       "      <td>100</td>\n",
       "      <td>5</td>\n",
       "      <td>{'n_estimators': 100, 'max_depth': 5}</td>\n",
       "      <td>0.794135</td>\n",
       "      <td>0.803551</td>\n",
       "      <td>0.787534</td>\n",
       "      <td>0.803551</td>\n",
       "      <td>0.790235</td>\n",
       "      <td>0.800656</td>\n",
       "      <td>0.786376</td>\n",
       "      <td>0.795148</td>\n",
       "      <td>0.006883</td>\n",
       "      <td>3</td>\n",
       "    </tr>\n",
       "  </tbody>\n",
       "</table>\n",
       "</div>"
      ],
      "text/plain": [
       "   mean_fit_time  std_fit_time  mean_score_time  std_score_time  \\\n",
       "0       2.449165      0.249127         0.129218        0.071610   \n",
       "1       2.438704      0.724914         0.096375        0.020600   \n",
       "2       1.921558      0.128210         0.073244        0.006103   \n",
       "\n",
       "   param_n_estimators  param_max_depth                                 params  \\\n",
       "0                  50               20  {'n_estimators': 50, 'max_depth': 20}   \n",
       "1                  50               15  {'n_estimators': 50, 'max_depth': 15}   \n",
       "2                 100                5  {'n_estimators': 100, 'max_depth': 5}   \n",
       "\n",
       "   split0_test_score  split1_test_score  split2_test_score  split3_test_score  \\\n",
       "0           0.889253           0.889425           0.885758           0.887881   \n",
       "1           0.878449           0.882092           0.879004           0.876496   \n",
       "2           0.794135           0.803551           0.787534           0.803551   \n",
       "\n",
       "   split4_test_score  split5_test_score  split6_test_score  mean_test_score  \\\n",
       "0           0.890004           0.882671           0.884794         0.887112   \n",
       "1           0.878232           0.869741           0.870899         0.876416   \n",
       "2           0.790235           0.800656           0.786376         0.795148   \n",
       "\n",
       "   std_test_score  rank_test_score  \n",
       "0        0.002558                1  \n",
       "1        0.004163                2  \n",
       "2        0.006883                3  "
      ]
     },
     "execution_count": 72,
     "metadata": {},
     "output_type": "execute_result"
    }
   ],
   "source": [
    "from sklearn.model_selection import RandomizedSearchCV\n",
    "\n",
    "\n",
    "clf = RandomizedSearchCV(\n",
    "    RandomForestClassifier(),\n",
    "    {'n_estimators': [10, 50, 100], 'max_depth': [5, 10, 15, 20]},\n",
    "    cv=7,\n",
    "    return_train_score=False,\n",
    "    n_iter=3\n",
    ")\n",
    "clf.fit(X, y)\n",
    "\n",
    "# Print Best Parameters\n",
    "print(\"Best Parameters for Random Forest (RandomizedSearchCV): \", clf.best_params_)\n",
    "df = pd.DataFrame(clf.cv_results_)\n",
    "df"
   ]
  },
  {
   "cell_type": "code",
   "execution_count": null,
   "id": "8cea5c5c-63cf-4169-bdbc-047438ee7ff9",
   "metadata": {},
   "outputs": [],
   "source": []
  }
 ],
 "metadata": {
  "kernelspec": {
   "display_name": "Python [conda env:base] *",
   "language": "python",
   "name": "conda-base-py"
  },
  "language_info": {
   "codemirror_mode": {
    "name": "ipython",
    "version": 3
   },
   "file_extension": ".py",
   "mimetype": "text/x-python",
   "name": "python",
   "nbconvert_exporter": "python",
   "pygments_lexer": "ipython3",
   "version": "3.12.7"
  }
 },
 "nbformat": 4,
 "nbformat_minor": 5
}
